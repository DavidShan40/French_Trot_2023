{
  "nbformat": 4,
  "nbformat_minor": 0,
  "metadata": {
    "colab": {
      "provenance": []
    },
    "kernelspec": {
      "name": "python3",
      "display_name": "Python 3"
    },
    "language_info": {
      "name": "python"
    }
  },
  "cells": [
    {
      "cell_type": "code",
      "execution_count": 1,
      "metadata": {
        "id": "hTbiDbb9duMf"
      },
      "outputs": [],
      "source": [
        "import pandas as pd\n",
        "import numpy as np\n",
        "from sklearn.datasets import make_regression\n",
        "from sklearn.model_selection import train_test_split\n",
        "from sklearn.metrics import mean_squared_error, log_loss\n",
        "from sklearn.ensemble import GradientBoostingRegressor, AdaBoostRegressor\n",
        "from xgboost import XGBRegressor\n",
        "from sklearn.linear_model import LassoCV, LinearRegression, LogisticRegressionCV"
      ]
    },
    {
      "cell_type": "code",
      "source": [
        "from google.colab import drive\n",
        "drive.mount('/content/drive')\n",
        "DIR_PATH = \"/content/drive/MyDrive/CANSSI Competition/\""
      ],
      "metadata": {
        "id": "nrR4al8GgDwL",
        "colab": {
          "base_uri": "https://localhost:8080/"
        },
        "outputId": "5175c374-ba45-4a0e-9f15-ad95f8b8fe6f"
      },
      "execution_count": 2,
      "outputs": [
        {
          "output_type": "stream",
          "name": "stdout",
          "text": [
            "Mounted at /content/drive\n"
          ]
        }
      ]
    },
    {
      "cell_type": "code",
      "source": [
        "train = pd.read_parquet(DIR_PATH+'train_datatrots_2013-2022 (2).parquet', engine='pyarrow')\n",
        "test = pd.read_parquet(DIR_PATH+'test_datatrots_2013-2022 (2).parquet', engine='pyarrow')"
      ],
      "metadata": {
        "id": "kF81XLiTgKMe"
      },
      "execution_count": 3,
      "outputs": []
    },
    {
      "cell_type": "code",
      "source": [
        "train_ID = train['Race_ID']\n",
        "test_ID = test['Race_ID']"
      ],
      "metadata": {
        "id": "KscnS54NbVzn"
      },
      "execution_count": 4,
      "outputs": []
    },
    {
      "cell_type": "code",
      "source": [
        "X_train = train.drop(columns=['Race_ID','RaceStartTime', 'win probability'])\n",
        "y_train = train['win probability']\n",
        "X_test = test.drop(columns=['Race_ID','RaceStartTime', 'win probability'])\n",
        "y_test = test['win probability']"
      ],
      "metadata": {
        "id": "HKmmD64MgUoD"
      },
      "execution_count": 5,
      "outputs": []
    },
    {
      "cell_type": "code",
      "source": [
        "# normalize prediction result function\n",
        "def normalize_predictions_by_id(predictions, ids):\n",
        "    predictions = np.clip(predictions, 0, 1)\n",
        "    predictions = pd.Series(predictions)\n",
        "    ids = pd.Series(ids)\n",
        "    sums = predictions.groupby(ids).transform('sum').replace(0, pd.NA)\n",
        "    normalized_predictions = predictions / sums\n",
        "    normalized_predictions = normalized_predictions.fillna(1.0 / len(predictions))\n",
        "    return normalized_predictions.values"
      ],
      "metadata": {
        "id": "OsQyZJYgfqNr"
      },
      "execution_count": 6,
      "outputs": []
    },
    {
      "cell_type": "code",
      "source": [
        "y_train_normalized = normalize_predictions_by_id(y_train, train_ID)\n",
        "y_test_normalized = normalize_predictions_by_id(y_test, test_ID)"
      ],
      "metadata": {
        "id": "Z_u6lzK2z4-G"
      },
      "execution_count": 7,
      "outputs": []
    },
    {
      "cell_type": "code",
      "source": [
        "# Xgboost\n",
        "xgboost = XGBRegressor(random_state=42)\n",
        "xgboost.fit(X_train, y_train_normalized)\n",
        "xgb_predictions = xgboost.predict(X_test)"
      ],
      "metadata": {
        "id": "EvLjttSZmr0K"
      },
      "execution_count": 8,
      "outputs": []
    },
    {
      "cell_type": "code",
      "source": [
        "# Normalize\n",
        "xgb_predictions = pd.Series(xgb_predictions)\n",
        "xgb_predictions.index = y_test.index\n",
        "xgb_pred_norm= normalize_predictions_by_id(xgb_predictions, test_ID)\n",
        "xgb_mse = mean_squared_error(xgb_pred_norm, y_test_normalized)\n",
        "print(f'XGBoost MSE: {xgb_mse:.4f}')"
      ],
      "metadata": {
        "colab": {
          "base_uri": "https://localhost:8080/"
        },
        "id": "J2taG4LJroC9",
        "outputId": "13e0e34d-9d7f-40b8-970e-d8119e69aa4a"
      },
      "execution_count": 9,
      "outputs": [
        {
          "output_type": "stream",
          "name": "stdout",
          "text": [
            "XGBoost MSE: 0.0129\n"
          ]
        }
      ]
    },
    {
      "cell_type": "code",
      "source": [
        "# Lasso Regression\n",
        "lasso = LassoCV(cv=5).fit(X_train, y_train_normalized)\n",
        "lasso_predictions = lasso.predict(X_test)\n",
        "lasso_predictions = pd.Series(lasso_predictions)\n",
        "lasso_predictions.index = y_test.index\n",
        "lasso_pred_norm= normalize_predictions_by_id(lasso_predictions, test_ID)\n",
        "lasso_mse = mean_squared_error(lasso_pred_norm, y_test_normalized)\n",
        "print(f\"Lasso MSE: {lasso_mse:.4f}\")"
      ],
      "metadata": {
        "colab": {
          "base_uri": "https://localhost:8080/"
        },
        "id": "VwdGPy4aYoEp",
        "outputId": "9dd4a349-15d1-4bc5-bdbc-ac09517dce9e"
      },
      "execution_count": 11,
      "outputs": [
        {
          "output_type": "stream",
          "name": "stdout",
          "text": [
            "Lasso MSE: 0.0139\n"
          ]
        },
        {
          "output_type": "stream",
          "name": "stderr",
          "text": [
            "/usr/local/lib/python3.10/dist-packages/sklearn/linear_model/_coordinate_descent.py:631: ConvergenceWarning: Objective did not converge. You might want to increase the number of iterations, check the scale of the features or consider increasing regularisation. Duality gap: 3.511e+00, tolerance: 1.912e+00\n",
            "  model = cd_fast.enet_coordinate_descent(\n"
          ]
        }
      ]
    },
    {
      "cell_type": "code",
      "source": [
        "# Linear Regression\n",
        "lm = LinearRegression().fit(X_train, y_train_normalized)\n",
        "lm_predictions = lm.predict(X_test)\n",
        "lm_predictions = pd.Series(lm_predictions, index=y_test.index)\n",
        "lm_pred_norm = normalize_predictions_by_id(lm_predictions, test_ID)\n",
        "lm_mse = mean_squared_error(lm_pred_norm, y_test_normalized)\n",
        "print(f\"Linear Regression MSE: {lm_mse:.4f}\")"
      ],
      "metadata": {
        "colab": {
          "base_uri": "https://localhost:8080/"
        },
        "id": "dorcdQGTZahO",
        "outputId": "2063d2e4-eb71-4513-ce83-01ffbe5f7895"
      },
      "execution_count": 14,
      "outputs": [
        {
          "output_type": "stream",
          "name": "stdout",
          "text": [
            "Linear Regression MSE: 0.0139\n"
          ]
        }
      ]
    },
    {
      "cell_type": "code",
      "source": [
        "# current best model is XGBoost\n",
        "xgb_pred_norm"
      ],
      "metadata": {
        "colab": {
          "base_uri": "https://localhost:8080/"
        },
        "id": "c-XQvkalhcul",
        "outputId": "41b41d79-0e02-4e7c-979d-b5c0b620149e"
      },
      "execution_count": 15,
      "outputs": [
        {
          "output_type": "execute_result",
          "data": {
            "text/plain": [
              "array([0.13504088, 0.13498738, 0.09455411, ..., 0.        , 0.        ,\n",
              "       0.00422223], dtype=float32)"
            ]
          },
          "metadata": {},
          "execution_count": 15
        }
      ]
    },
    {
      "cell_type": "markdown",
      "source": [
        "submission for all observation's forcasting"
      ],
      "metadata": {
        "id": "tzEp7Y9rjfqx"
      }
    },
    {
      "cell_type": "code",
      "source": [
        "X = pd.concat([X_train, X_test], ignore_index=True)\n",
        "ID = train['Race_ID'].append(test['Race_ID'], ignore_index=True)\n",
        "y = y_train.append(y_test, ignore_index=True)\n",
        "y_normalized = normalize_predictions_by_id(y, ID)"
      ],
      "metadata": {
        "colab": {
          "base_uri": "https://localhost:8080/"
        },
        "id": "18RFYdXYkM1W",
        "outputId": "5c403104-9e40-4081-8a99-a14a1f20f583"
      },
      "execution_count": 16,
      "outputs": [
        {
          "output_type": "stream",
          "name": "stderr",
          "text": [
            "<ipython-input-16-837d745f6a55>:2: FutureWarning: The series.append method is deprecated and will be removed from pandas in a future version. Use pandas.concat instead.\n",
            "  ID = train['Race_ID'].append(test['Race_ID'], ignore_index=True)\n",
            "<ipython-input-16-837d745f6a55>:3: FutureWarning: The series.append method is deprecated and will be removed from pandas in a future version. Use pandas.concat instead.\n",
            "  y = y_train.append(y_test, ignore_index=True)\n"
          ]
        }
      ]
    },
    {
      "cell_type": "code",
      "source": [
        "xgb_predictions = xgboost.predict(X)\n",
        "xgb_predictions = pd.Series(xgb_predictions)\n",
        "xgb_predictions.index = y.index\n",
        "xgb_pred_norm= normalize_predictions_by_id(xgb_predictions, ID)\n",
        "xgb_mse = mean_squared_error(xgb_pred_norm, y_normalized)\n",
        "print(f'XGBoost MSE: {xgb_mse:.4f}')"
      ],
      "metadata": {
        "colab": {
          "base_uri": "https://localhost:8080/"
        },
        "id": "wCaqtBvSjmu1",
        "outputId": "0c1b177e-8937-4e32-8185-f3bcd763beb8"
      },
      "execution_count": 18,
      "outputs": [
        {
          "output_type": "stream",
          "name": "stdout",
          "text": [
            "XGBoost MSE: 0.0121\n"
          ]
        }
      ]
    },
    {
      "cell_type": "code",
      "source": [
        "xgb_pred_norm"
      ],
      "metadata": {
        "colab": {
          "base_uri": "https://localhost:8080/"
        },
        "id": "JKdpHb3qlSeI",
        "outputId": "a88621a4-c3b5-4ddf-c32e-e2d8f58e256c"
      },
      "execution_count": 19,
      "outputs": [
        {
          "output_type": "execute_result",
          "data": {
            "text/plain": [
              "array([0.15317927, 0.10670125, 0.14966989, ..., 0.        , 0.        ,\n",
              "       0.00422223], dtype=float32)"
            ]
          },
          "metadata": {},
          "execution_count": 19
        }
      ]
    },
    {
      "cell_type": "code",
      "source": [
        "xgb_pred_norm.shape"
      ],
      "metadata": {
        "colab": {
          "base_uri": "https://localhost:8080/"
        },
        "id": "dZz7EWDBlcfa",
        "outputId": "a39aa5ba-beec-48df-b51c-cff8d820522a"
      },
      "execution_count": 20,
      "outputs": [
        {
          "output_type": "execute_result",
          "data": {
            "text/plain": [
              "(1200412,)"
            ]
          },
          "metadata": {},
          "execution_count": 20
        }
      ]
    },
    {
      "cell_type": "code",
      "source": [
        "pd.DataFrame({\"Win Probability\":xgb_pred_norm}).to_parquet('win_probability_variable.parquet')"
      ],
      "metadata": {
        "id": "FDPml7Ycited"
      },
      "execution_count": 23,
      "outputs": []
    }
  ]
}